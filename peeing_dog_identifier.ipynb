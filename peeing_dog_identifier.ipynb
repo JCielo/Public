{
  "nbformat": 4,
  "nbformat_minor": 0,
  "metadata": {
    "colab": {
      "name": "peeing_dog_identifier.ipynb",
      "provenance": [],
      "authorship_tag": "ABX9TyND3+2g0tPLRQDCALt8UOe6",
      "include_colab_link": true
    },
    "kernelspec": {
      "name": "python3",
      "display_name": "Python 3"
    },
    "language_info": {
      "name": "python"
    }
  },
  "cells": [
    {
      "cell_type": "markdown",
      "metadata": {
        "id": "view-in-github",
        "colab_type": "text"
      },
      "source": [
        "<a href=\"https://colab.research.google.com/github/JCielo/Public/blob/main/peeing_dog_identifier.ipynb\" target=\"_parent\"><img src=\"https://colab.research.google.com/assets/colab-badge.svg\" alt=\"Open In Colab\"/></a>"
      ]
    },
    {
      "cell_type": "code",
      "metadata": {
        "colab": {
          "base_uri": "https://localhost:8080/"
        },
        "id": "OAJRiKenFhvV",
        "outputId": "67f762ab-9e03-443f-b1c0-a65b610f7d08"
      },
      "source": [
        "from google.colab import drive\n",
        "drive.mount('drive')"
      ],
      "execution_count": null,
      "outputs": [
        {
          "output_type": "stream",
          "text": [
            "Mounted at drive\n"
          ],
          "name": "stdout"
        }
      ]
    },
    {
      "cell_type": "code",
      "metadata": {
        "id": "Ddb4e9gUEfbx"
      },
      "source": [
        "import cv2                 # image analysis\n",
        "import numpy as np         # dealing with arrays\n",
        "import os                  # dealing with directories\n",
        "from random import shuffle # mixing up or currently ordered data that might lead our network astray in training.\n",
        "from tqdm import tqdm      # a nice pretty percentage bar for tasks. Thanks to viewer Daniel BA1/4hler for this suggestion\n",
        "\n",
        "import tensorflow as tf    #TensorFlow!!! Builds neural network"
      ],
      "execution_count": null,
      "outputs": []
    },
    {
      "cell_type": "code",
      "metadata": {
        "id": "aBkjOwknicj9",
        "colab": {
          "base_uri": "https://localhost:8080/",
          "height": 135
        },
        "outputId": "8fc2579d-8156-43da-d0b3-9549d9537c97"
      },
      "source": [
        "#Importing Datasets and Other Necessary Images\n",
        "  #connect with shared drive?? \n",
        "   # https://pythonprogramming.net/convolutional-neural-network-kats-vs-dogs-machine-learning-tutorial/ \n",
        "\n",
        "\n",
        "#Training Datasets\n",
        "normal_dog_training_set = #paths in drive\n",
        "peeing_dog_training_set =\n",
        "backgrounds =\n",
        "\n",
        "#Validation Training Sets\n",
        "\n",
        "validation_set = \n",
        "\n",
        "#Test Sets (the one we collect from public)\n",
        "\n",
        "test_set = \n",
        "\n"
      ],
      "execution_count": null,
      "outputs": [
        {
          "output_type": "error",
          "ename": "SyntaxError",
          "evalue": "ignored",
          "traceback": [
            "\u001b[0;36m  File \u001b[0;32m\"<ipython-input-3-feb829ca025b>\"\u001b[0;36m, line \u001b[0;32m7\u001b[0m\n\u001b[0;31m    normal_dog_training_set = #paths in drive\u001b[0m\n\u001b[0m                                             ^\u001b[0m\n\u001b[0;31mSyntaxError\u001b[0m\u001b[0;31m:\u001b[0m invalid syntax\n"
          ]
        }
      ]
    },
    {
      "cell_type": "code",
      "metadata": {
        "id": "3UQ240D5jsts"
      },
      "source": [
        "#Deskewing\n",
        "def deskew(img):\n",
        "  m = cv2.moments(img)\n",
        "  if abs(m['mu02']):\n",
        "  # no deskewing needed.\n",
        "    return img.copy()\n",
        "  # Calculate skew based on central momemts.\n",
        "  skew = m['mu11']/m['mu02']\n",
        "  # Calculate affine transform to correct skewness.\n",
        "  M = np.float32([[1, skew, -0.5*SZ*skew], [0, 1, 0]])\n",
        "  # Apply affine transform\n",
        "  img = cv2.warpAffine(img, M, (SZ, SZ), flags=cv2.WARP_INVERSE_MAP | cv2.INTER_LINEAR)\n",
        "  return img"
      ],
      "execution_count": null,
      "outputs": []
    },
    {
      "cell_type": "code",
      "metadata": {
        "id": "YM9T8GHuE6l6"
      },
      "source": [
        "#Identify whether image has dog\n",
        "#NN found on internet\n",
        "\n",
        "from keras.applications.resnet50 import ResNet50\n",
        "ResNet50_model = ResNet50(weights='imagenet')\n",
        "\n",
        "from keras.preprocessing import image             \n",
        "from tqdm import tqdm\n",
        "def path_to_tensor(img_path):\n",
        "    img = image.load_img(img_path, target_size=(224, 224))\n",
        "    x = image.img_to_array(img)\n",
        "    return np.expand_dims(x, axis=0)\n",
        "\n",
        "def paths_to_tensor(img_paths):\n",
        "    list_of_tensors = [path_to_tensor(img_path) for img_path in tqdm(img_paths)]\n",
        "    return np.vstack(list_of_tensors)\n",
        "\n",
        "from keras.applications.resnet50 import preprocess_input, decode_predictions\n",
        "def ResNet50_predict_labels(img_path):\n",
        "    img = preprocess_input(path_to_tensor(img_path))\n",
        "    return np.argmax(ResNet50_model.predict(img))\n",
        "    \n",
        "def dog_detector(img_path):\n",
        "    prediction = ResNet50_predict_labels(img_path)\n",
        "    return ((prediction <= 268) & (prediction >= 151))"
      ],
      "execution_count": null,
      "outputs": []
    },
    {
      "cell_type": "code",
      "metadata": {
        "id": "htLyVYfvicM8",
        "colab": {
          "base_uri": "https://localhost:8080/"
        },
        "outputId": "3339771a-a9fc-493c-c40d-3babe437de2d"
      },
      "source": [
        "path = '/content/drive/MyDrive/Dog Images/GFGq8gN.jpg' #eventually automate path to images in drive\n",
        "\n",
        "dog_detector(path)"
      ],
      "execution_count": null,
      "outputs": [
        {
          "output_type": "execute_result",
          "data": {
            "text/plain": [
              "True"
            ]
          },
          "metadata": {
            "tags": []
          },
          "execution_count": 13
        }
      ]
    },
    {
      "cell_type": "code",
      "metadata": {
        "id": "Wcpk2X73E_51"
      },
      "source": [
        "#Identify whether dog is in expelling position\n",
        "\n",
        "  #How do we get a dataset for this?"
      ],
      "execution_count": null,
      "outputs": []
    }
  ]
}